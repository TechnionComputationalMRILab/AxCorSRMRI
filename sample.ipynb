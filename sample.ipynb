{
 "cells": [
  {
   "cell_type": "markdown",
   "metadata": {},
   "source": [
    "# AxCoRSMRI sample notebook\n",
    "\n",
    "Self-Supervised Realistic Through-Plane MRI Super Resolution from Clinical 2D Axial and Coronal Acquisition.\n",
    "\n",
    "[For more information, please see the GitHub repository.](https://github.com/TechnionComputationalMRILab/AxCorSRMRI)"
   ]
  },
  {
   "cell_type": "code",
   "execution_count": 1,
   "metadata": {
    "ExecuteTime": {
     "end_time": "2024-06-02T05:49:42.171144200Z",
     "start_time": "2024-06-02T05:49:14.970468300Z"
    },
    "collapsed": false
   },
   "outputs": [],
   "source": [
    "## Imports\n",
    "import torch\n",
    "assert torch.cuda.is_available()\n",
    "\n",
    "import warnings\n",
    "warnings.filterwarnings(\"ignore\", category=UserWarning) "
   ]
  },
  {
   "cell_type": "markdown",
   "metadata": {
    "collapsed": false
   },
   "source": [
    "## Data Preprocess\n",
    "\n",
    "For first time users, please prepare your data accordingly. \n",
    "\n",
    "Create a where each case ID has two files - one for axial and one for coronal. The files should be in nifti format (.nii.gz). The files should be named as follows: \"case_id_AXIAL.nii.gz\" and \"case_id_CORONAL.nii.gz\".\n",
    "\n",
    "For example:\n",
    "```\n",
    "    - data_folder\n",
    "        - 1\n",
    "            - 1_AXIAL.nii.gz\n",
    "            - 1_CORONAL.nii.gz\n",
    "        - 2\n",
    "            - 2_AXIAL.nii.gz\n",
    "            - 2_CORONAL.nii.gz\n",
    "        - 3\n",
    "            - 3_AXIAL.nii.gz\n",
    "            - 3_CORONAL.nii.gz\n",
    "        - 4\n",
    "            - 4_AXIAL.nii.gz\n",
    "            - 4_CORONAL.nii.gz\n",
    "        - 5\n",
    "            - 5_AXIAL.nii.gz\n",
    "            - 5_CORONAL.nii.gz\n",
    "```\n",
    "\n",
    "Note that you need to have write permissions in the `data_folder` directory, as the code will write the preprocessed data in the same directory. The paths require a trailing slash."
   ]
  },
  {
   "cell_type": "code",
   "execution_count": 8,
   "metadata": {
    "ExecuteTime": {
     "end_time": "2024-06-01T16:58:16.242766Z",
     "start_time": "2024-06-01T16:57:54.210407700Z"
    },
    "collapsed": false
   },
   "outputs": [
    {
     "name": "stderr",
     "output_type": "stream",
     "text": [
      "Processing files: 100%|██████████| 337/337 [06:51<00:00,  1.22s/it]\n"
     ]
    }
   ],
   "source": [
    "# Resample isotropic NIFTI coronal files\n",
    "from axcorsrmri import resample_cases\n",
    "\n",
    "path_to_data_files = r\"./data/\"\n",
    "resample_cases(path_dir = path_to_data_files)"
   ]
  },
  {
   "cell_type": "code",
   "execution_count": 9,
   "metadata": {
    "ExecuteTime": {
     "end_time": "2024-06-02T05:49:42.343514500Z",
     "start_time": "2024-06-02T05:49:42.185775600Z"
    },
    "collapsed": false
   },
   "outputs": [
    {
     "name": "stderr",
     "output_type": "stream",
     "text": [
      "Processing files: 100%|██████████| 337/337 [00:00<00:00, 112592.04it/s]\n"
     ]
    }
   ],
   "source": [
    "# # Create DB file with isotropic, coronal and axial files paths\n",
    "from axcorsrmri import create_database\n",
    "\n",
    "path_to_data_files = r\"./data/\"\n",
    "create_database(\n",
    "    path_to_data_files,\n",
    "    train_frac=0.8,\n",
    "    test_frac=0.1,\n",
    "    num_folds=1\n",
    ")"
   ]
  },
  {
   "cell_type": "markdown",
   "metadata": {
    "collapsed": false
   },
   "source": [
    "## Param Initializaion\n",
    "\n",
    "Here you can define the main parameters for the model training. Please refer to `Parameters_dictionary.txt` for more details of each parameter."
   ]
  },
  {
   "cell_type": "code",
   "execution_count": 10,
   "metadata": {
    "ExecuteTime": {
     "end_time": "2024-06-02T05:49:42.360005100Z",
     "start_time": "2024-06-02T05:49:42.360005100Z"
    },
    "collapsed": false
   },
   "outputs": [],
   "source": [
    "from axcorsrmri import parser_setup\n",
    "\n",
    "override_args = {\n",
    "    \"path_to_set\": r\"./data/\",\n",
    "    \"path_to_results\": r\"./results/\",\n",
    "    \"amount_of_files\":20,\n",
    "    \"batch_size\":12,\n",
    "    \"loss\":\"L2\",\n",
    "    \"gpu_device\":\"0\",\n",
    "    \"amount_of_slices\":3,\n",
    "    \"title\":\"Test\",\n",
    "    \"total_samples\":100,\n",
    "    \"patch_size\":48,\n",
    "    \"epochs\": 20,\n",
    "    \"lr_g\":0.0001,\n",
    "    \"lr_d\": 0.0001,\n",
    "    \"scheduler\": \"const\",\n",
    "    \"max_workers_train\": 12,\n",
    "    \"max_workers_valid\": 30,\n",
    "    \"valid_batch_size\": 40,\n",
    "    \"adversarial_weight_I\": 0.02,\n",
    "    \"adversarial_weight_E\": 0.02,\n",
    "    \"d_optimizer_step_size\":40 ,\n",
    "    \"g_optimizer_step_size\": 160,\n",
    "    \"val_epoch\": 5,\n",
    "    \"image_save_freq_batch\": 100,\n",
    "    \"mage_save_freq_epoch\": 5,\n",
    "    \"save_tensor\":True,\n",
    "    \"save_nifti\":True\n",
    "}\n",
    "\n",
    "args = parser_setup(override_args)"
   ]
  },
  {
   "cell_type": "markdown",
   "metadata": {
    "collapsed": false
   },
   "source": [
    "## Dataset Creation\n",
    "\n",
    "Initialize the training, validation and test datasets for the model training. In addition, the function creates a new folder in `path_to_results` to save the results and logs for tracking with tensorboard.\n"
   ]
  },
  {
   "cell_type": "code",
   "execution_count": 11,
   "metadata": {
    "ExecuteTime": {
     "end_time": "2024-06-02T05:51:43.042472900Z",
     "start_time": "2024-06-02T05:49:42.360005100Z"
    },
    "collapsed": false
   },
   "outputs": [
    {
     "name": "stdout",
     "output_type": "stream",
     "text": [
      "Building and creating ESRT model from scratch.\n",
      "Loading the training and validation datasets...\n",
      "Loading the training and validation datasets...\n",
      "Loaded training and validation datasets successfully.\n",
      "Finished data preparation and parameters initialization.\n"
     ]
    }
   ],
   "source": [
    "from axcorsrmri import initialize_data\n",
    "dl_train, dl_valid_lr, dl_valid_hr, dl_test_lr, dl_test_hr, result_dir, writer, config = initialize_data(args)"
   ]
  },
  {
   "cell_type": "markdown",
   "metadata": {
    "collapsed": false
   },
   "source": [
    "## Training, validation, and testing\n",
    "Initalize the model and model parameters, and then train it on `dl_train` and validate it on `dl_valid_lr` and `dl_valid_hr`. After the training is done, it is tested on `dl_test_lr` and `dl_test_hr`."
   ]
  },
  {
   "cell_type": "code",
   "execution_count": 12,
   "metadata": {
    "collapsed": false
   },
   "outputs": [
    {
     "name": "stdout",
     "output_type": "stream",
     "text": [
      "Building model...\n",
      "Built model successfully.\n",
      "Defining all optimizer functions...\n",
      "Defined all optimizer functions successfully.\n",
      "Defining all optimizer scheduler functions...\n",
      "Defined all optimizer scheduler functions successfully.\n",
      "Defining all loss functions...\n",
      "Defined all loss functions successfully.\n",
      "Starting model training...\n"
     ]
    },
    {
     "name": "stderr",
     "output_type": "stream",
     "text": [
      "100%|██████████| 20/20 [25:35:14<00:00, 4605.75s/it]   \n"
     ]
    },
    {
     "name": "stdout",
     "output_type": "stream",
     "text": [
      "END training\n",
      "Total training time -  01:35:14\n",
      "START testing\n",
      "Start Validation\n",
      "Reconstructing LR images...\n",
      "Saving tensors for ./data/3239335163204_20170712_cor_2D_FIESTA__isotropic.nii.gz file\n",
      "Saving tensors for ./data/3239335163204_20170712_cor_2D_FIESTA__isotropic.nii.gz file\n",
      "END testing\n"
     ]
    }
   ],
   "source": [
    "from axcorsrmri import training_validation_test\n",
    "training_validation_test(dl_train, dl_valid_lr, dl_valid_hr, dl_test_lr, dl_test_hr, result_dir, writer, config)"
   ]
  },
  {
   "cell_type": "markdown",
   "metadata": {
    "collapsed": false
   },
   "source": [
    "## Reconstruct SR Volumes\n",
    "Apply the SR model on all `isotropic` files in the model.\n"
   ]
  },
  {
   "cell_type": "code",
   "execution_count": 4,
   "metadata": {
    "collapsed": false
   },
   "outputs": [],
   "source": [
    "from axcorsrmri import test_parser_setup\n",
    "\n",
    "override_args_test = {\n",
    "    \"path_to_set\": r\"./data/\",\n",
    "    \"path_to_results\": r\"./results/\",\n",
    "    \"path_to_trained_model\": r\"./Test_06_06_2024_11_47/\",\n",
    "    \"amount_of_files\":20,\n",
    "    \"batch_size\":12,\n",
    "    \"gpu_device\":\"0,1\",\n",
    "    \"amount_of_slices\":3,\n",
    "    \"title\":\"Test\",\n",
    "    \"save_tensor\":True,\n",
    "    \"save_nifti\":True,\n",
    "}\n",
    "\n",
    "test_args = test_parser_setup(override_args_test)"
   ]
  },
  {
   "cell_type": "code",
   "execution_count": 5,
   "metadata": {
    "collapsed": false
   },
   "outputs": [
    {
     "name": "stdout",
     "output_type": "stream",
     "text": [
      "Creating the dataset...\n"
     ]
    },
    {
     "ename": "",
     "evalue": "",
     "output_type": "error",
     "traceback": [
      "\u001b[1;31mThe Kernel crashed while executing code in the current cell or a previous cell. \n",
      "\u001b[1;31mPlease review the code in the cell(s) to identify a possible cause of the failure. \n",
      "\u001b[1;31mClick <a href='https://aka.ms/vscodeJupyterKernelCrash'>here</a> for more info. \n",
      "\u001b[1;31mView Jupyter <a href='command:jupyter.viewOutput'>log</a> for further details."
     ]
    }
   ],
   "source": [
    "from axcorsrmri import reconstruct_SR_volumes_in_folder\n",
    "\n",
    "reconstruct_SR_volumes_in_folder(test_args)"
   ]
  }
 ],
 "metadata": {
  "kernelspec": {
   "display_name": "Python 3",
   "language": "python",
   "name": "python3"
  },
  "language_info": {
   "codemirror_mode": {
    "name": "ipython",
    "version": 3
   },
   "file_extension": ".py",
   "mimetype": "text/x-python",
   "name": "python",
   "nbconvert_exporter": "python",
   "pygments_lexer": "ipython3",
   "version": "3.8.19"
  }
 },
 "nbformat": 4,
 "nbformat_minor": 0
}
