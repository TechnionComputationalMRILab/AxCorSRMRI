{
 "cells": [
  {
   "cell_type": "markdown",
   "source": [],
   "metadata": {
    "collapsed": false
   }
  },
  {
   "cell_type": "markdown",
   "source": [],
   "metadata": {
    "collapsed": false
   }
  },
  {
   "cell_type": "markdown",
   "source": [
    "## Imports"
   ],
   "metadata": {
    "collapsed": false
   }
  },
  {
   "cell_type": "code",
   "execution_count": 37,
   "outputs": [],
   "source": [
    "\n",
    "import distutils.version\n",
    "\n",
    "import matplotlib.pyplot as plt\n",
    "\n",
    "from PreprocessUtils import ResampleCases,CreateDateBase\n",
    "from main import *\n"
   ],
   "metadata": {
    "collapsed": false,
    "ExecuteTime": {
     "end_time": "2024-06-04T10:33:39.920674900Z",
     "start_time": "2024-06-04T10:33:39.881574Z"
    }
   }
  },
  {
   "cell_type": "markdown",
   "source": [
    "# Model Training and data preparation"
   ],
   "metadata": {
    "collapsed": false
   }
  },
  {
   "cell_type": "markdown",
   "source": [
    "\n",
    "## Date Preprocess\n",
    "\n",
    "First time users, here's a guide to organizing your data effectively:\n",
    "*Create a New Folder* : Open a new folder where you'll store your data.\n",
    "*Case ID Consistency* : Make sure the Case ID is the same for both axial and coronal files, and it's at the beginning of the file name. This simplifies data management and retrieval.\n",
    "*File Naming Convention* : Use a consistent naming convention for your files. For axial files, include \"AXIAL\", \"Axial\", \"axial\", or similar after the case_id of the file name. For coronal files, use \"CORONAL\", \"Coronal\", \"coronal\", or similar. This makes it easy to distinguish between the two types of files."
   ],
   "metadata": {
    "collapsed": false
   }
  },
  {
   "cell_type": "code",
   "execution_count": null,
   "outputs": [],
   "source": [
    "# Resample isotropicly nifti coronal files\n",
    "path_to_data_files = \"/tcmldrive/shared/RambamMRE082022/new2/\"\n",
    "coronal_files_prefix = None # not mandatory\n",
    "ResampleCases(path_dir = path_to_data_files ,prefix = coronal_files_prefix)\n"
   ],
   "metadata": {
    "collapsed": false,
    "is_executing": true,
    "ExecuteTime": {
     "start_time": "2024-06-04T10:33:41.998213600Z"
    }
   }
  },
  {
   "cell_type": "code",
   "execution_count": null,
   "outputs": [],
   "source": [
    "# Creat DB file with isotropic, coronal and axial files paths\n",
    "path_to_data_files = \"/tcmldrive/shared/RambamMRE082022/new2/\"\n",
    "CreateDateBase(path_to_data_files,cor_prefix=None,ax_prefix=None,train_frac=0.8,test_frac=0.1,num_folds = 1)"
   ],
   "metadata": {
    "collapsed": false,
    "is_executing": true
   }
  },
  {
   "cell_type": "markdown",
   "source": [
    "## Paramaters Initializaion\n",
    "\n",
    "In this section, you have the option to adjust the main parameters for both the framework and model training. You can explore additional parameters in the parameter_dictionary.txt file. The default parameters for training are already predefined."
   ],
   "metadata": {
    "collapsed": false
   }
  },
  {
   "cell_type": "code",
   "execution_count": null,
   "outputs": [],
   "source": [
    "\n",
    "\n",
    "override_args = {\n",
    "    \"path_to_set\":\"/tcmldrive/shared/RambamMRE082022/new2/\",\n",
    "    \"path_to_results\":\"/argusdata/users/jenny075/JennySh/results/\",\n",
    "    \"amount_of_files\":20,\n",
    "    \"batch_size\":12,\n",
    "    \"gpu_device\":\"0,1\",\n",
    "    \"title\":\"Test\",\n",
    "    \"total_samples\":1000,\n",
    "    \"patch_size\":48,\n",
    "    \"epochs\": 20,\n",
    "    \"valid_batch_size\": 40,\n",
    "    \"val_epoch\":10,\n",
    "}\n",
    "\n",
    "parser = setup_parser()\n",
    "args, _ = parser.parse_known_args([])\n",
    "vars(args).update(override_args)"
   ],
   "metadata": {
    "collapsed": false,
    "is_executing": true
   }
  },
  {
   "cell_type": "markdown",
   "source": [
    "## Dataset Creation\n",
    "\n",
    "This function creates training, validation, and test datasets for model training. It also generates a new folder at the specified 'path_to_results' to save the results. Additionally, it sets up a writer for TensorBoard tracking.\n"
   ],
   "metadata": {
    "collapsed": false
   }
  },
  {
   "cell_type": "code",
   "execution_count": null,
   "outputs": [],
   "source": [
    "dl_train , dl_valid_lr,dl_valid_hr,dl_test_lr,dl_test_hr,result_dir,writer,config  = Data_Inittializaion(args)"
   ],
   "metadata": {
    "collapsed": false,
    "is_executing": true
   }
  },
  {
   "cell_type": "markdown",
   "source": [
    "## Train validation and test\n",
    "This function first, initialize the model and set the model parameters. Then, trains the model using the dl_train dataset and validate it using dl_valid_lr and dl_valid_hr datasets. Once training is complete, it tests the model using dl_test_lr and dl_test_hr datasets."
   ],
   "metadata": {
    "collapsed": false
   }
  },
  {
   "cell_type": "code",
   "execution_count": null,
   "outputs": [],
   "source": [
    "training_validation_test(dl_train , dl_valid_lr,dl_valid_hr,dl_test_lr,dl_test_hr,result_dir,writer,config)"
   ],
   "metadata": {
    "collapsed": false,
    "is_executing": true
   }
  },
  {
   "cell_type": "markdown",
   "source": [
    "# Reconstruct SR Volumes\n",
    "In this section, you can apply the trained model to all the data in the folder. Ensure that the data is isotropically resampled before applying the model"
   ],
   "metadata": {
    "collapsed": false
   }
  },
  {
   "cell_type": "markdown",
   "source": [
    "## Framework Initializaion\n",
    "\n",
    "In this section, you need to det the main parameters for both the framework . The default parameters for the framework are already predefined."
   ],
   "metadata": {
    "collapsed": false
   }
  },
  {
   "cell_type": "code",
   "execution_count": null,
   "outputs": [],
   "source": [
    "override_args_test = {\n",
    "    \"path_to_set\":\"/tcmldrive/shared/RambamMRE082022/new3/\",\n",
    "    \"path_to_results\":\"/argusdata/users/jenny075/JennySh/results/\",\n",
    "    \"path_to_trained_model\":\"/argusdata/users/jenny075/JennySh/DGX_results/RAMBAM_COR_FINAL_CHECKPOINTS/ESRT_RAMBAM_FINAL_CORONAL_CHEACKPOINTS_fold1__25_04_2024_18_41/Saved/check_points/1000.pth\",\n",
    "    \"gpu_device\":\"0,1\",\n",
    "    \"title\":\"Test_SR_REc\",\n",
    "    \"save_nifti\":True,\n",
    "}\n",
    "\n",
    "parser = setup_parser_test()\n",
    "args_, _ = parser.parse_known_args([])\n",
    "vars(args_).update(override_args_test)"
   ],
   "metadata": {
    "collapsed": false,
    "is_executing": true
   }
  },
  {
   "cell_type": "markdown",
   "source": [
    "## Reconstruction\n",
    "\n",
    "This function applies the model to the isotropically resampled files and saves the super-resolution version of each file"
   ],
   "metadata": {
    "collapsed": false
   }
  },
  {
   "cell_type": "code",
   "execution_count": null,
   "outputs": [],
   "source": [
    "reconstract_SR_volumes_in_folder(args_)"
   ],
   "metadata": {
    "collapsed": false,
    "is_executing": true
   }
  },
  {
   "cell_type": "code",
   "execution_count": null,
   "outputs": [],
   "source": [
    "%matplotlib inline"
   ],
   "metadata": {
    "collapsed": false
   }
  },
  {
   "cell_type": "code",
   "execution_count": null,
   "outputs": [],
   "source": [
    "isotropic = load_nifti_image('/tcmldrive/shared/RambamMRE082022/new3/775884076332_20190823_cor_2D_FIESTA__isotropic.nii.gz','nifti')\n",
    "SR = load_nifti_image(\"/argusdata/users/jenny075/JennySh/results/Test_SR_REc_04_06_2024_13_00/775884076332_20190823_cor_2D_FIESTA__isotropic_SR_.nii.gz\",'nifti')\n",
    "\n",
    "plt.subplot(1,2,1)\n",
    "plt.imshow(1-isotropic[int(isotropic.shape[0]/2),:,:],vmin=0, vmax=1,cmap='gray')\n",
    "plt.title(\"Isotropic\")\n",
    "plt.axis('off')\n",
    "plt.subplot(1,2,2)\n",
    "plt.imshow(1-SR[int(SR.shape[0]/2),:,:],vmin=0, vmax=1,cmap='gray')\n",
    "plt.title(\"SR\")\n",
    "plt.axis('off')\n",
    "plt.show()\n",
    "\n",
    "\n",
    "plt.subplot(1,2,1)\n",
    "plt.imshow(1-isotropic[:,int(isotropic.shape[1]/2),:],vmin=0, vmax=1,cmap='gray')\n",
    "plt.title(\"Isotropic\")\n",
    "plt.axis('off')\n",
    "plt.subplot(1,2,2)\n",
    "plt.imshow(1-SR[:,int(SR.shape[1]/2),:],vmin=0, vmax=1,cmap='gray')\n",
    "plt.title(\"SR\")\n",
    "plt.axis('off')\n",
    "plt.show()"
   ],
   "metadata": {
    "collapsed": false
   }
  },
  {
   "cell_type": "code",
   "execution_count": null,
   "outputs": [],
   "source": [
    "isotropic.shape"
   ],
   "metadata": {
    "collapsed": false
   }
  },
  {
   "cell_type": "code",
   "execution_count": null,
   "outputs": [],
   "source": [],
   "metadata": {
    "collapsed": false
   }
  }
 ],
 "metadata": {
  "kernelspec": {
   "display_name": "Python 3",
   "language": "python",
   "name": "python3"
  },
  "language_info": {
   "codemirror_mode": {
    "name": "ipython",
    "version": 2
   },
   "file_extension": ".py",
   "mimetype": "text/x-python",
   "name": "python",
   "nbconvert_exporter": "python",
   "pygments_lexer": "ipython2",
   "version": "2.7.6"
  }
 },
 "nbformat": 4,
 "nbformat_minor": 0
}
